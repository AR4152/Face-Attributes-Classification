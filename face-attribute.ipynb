{
 "cells": [
  {
   "cell_type": "code",
   "execution_count": null,
   "metadata": {
    "_cell_guid": "b1076dfc-b9ad-4769-8c92-a6c4dae69d19",
    "_uuid": "8f2839f25d086af736a60e9eeb907d3b93b6e0e5"
   },
   "outputs": [],
   "source": [
    "# This Python 3 environment comes with many helpful analytics libraries installed\n",
    "# It is defined by the kaggle/python Docker image: https://github.com/kaggle/docker-python\n",
    "# For example, here's several helpful packages to load\n",
    "\n",
    "import numpy as np # linear algebra\n",
    "import pandas as pd # data processing, CSV file I/O (e.g. pd.read_csv)\n",
    "\n",
    "# Input data files are available in the read-only \"../input/\" directory\n",
    "# For example, running this (by clicking run or pressing Shift+Enter) will list all files under the input directory\n",
    "\n",
    "import os\n",
    "for dirname, _, filenames in os.walk('/kaggle/input'):\n",
    "    for filename in filenames:\n",
    "        print(os.path.join(dirname, filename))\n",
    "\n",
    "# You can write up to 20GB to the current directory (/kaggle/working/) that gets preserved as output when you create a version using \"Save & Run All\" \n",
    "# You can also write temporary files to /kaggle/temp/, but they won't be saved outside of the current session"
   ]
  },
  {
   "cell_type": "code",
   "execution_count": null,
   "metadata": {},
   "outputs": [],
   "source": []
  },
  {
   "cell_type": "code",
   "execution_count": null,
   "metadata": {},
   "outputs": [],
   "source": []
  },
  {
   "cell_type": "code",
   "execution_count": 3,
   "metadata": {},
   "outputs": [],
   "source": [
    "import tensorflow as tf\n",
    "import pandas as pd\n",
    "from tensorflow.keras.optimizers import RMSprop\n",
    "from keras.preprocessing.image import ImageDataGenerator"
   ]
  },
  {
   "cell_type": "code",
   "execution_count": 4,
   "metadata": {},
   "outputs": [],
   "source": [
    "import numpy as np\n",
    "import pandas as pd\n",
    "import tensorflow as tf\n",
    "from tensorflow.keras import Model\n",
    "from tensorflow.keras.layers import Dense, Flatten, Input, Dropout\n",
    "from tensorflow.keras.applications import VGG16\n",
    "from tensorflow.keras.preprocessing.image import ImageDataGenerator\n",
    "from tensorflow.keras.callbacks import *\n",
    "\n",
    "from sklearn.model_selection import train_test_split\n",
    "\n",
    "# Data Visualization\n",
    "import matplotlib.pyplot as plt\n",
    "import seaborn as sns"
   ]
  },
  {
   "cell_type": "code",
   "execution_count": 5,
   "metadata": {},
   "outputs": [],
   "source": [
    "#Define the folder where all the images are there\n",
    "folder = '../input/face-attributes-ml-thon-2021/images/images/'\n",
    "\n",
    "# Reading the train data\n",
    "train = pd.read_csv('../input/face-attribute-ml-thon/face_attribute_train.csv')\n"
   ]
  },
  {
   "cell_type": "code",
   "execution_count": 6,
   "metadata": {},
   "outputs": [
    {
     "data": {
      "text/html": [
       "<div>\n",
       "<style scoped>\n",
       "    .dataframe tbody tr th:only-of-type {\n",
       "        vertical-align: middle;\n",
       "    }\n",
       "\n",
       "    .dataframe tbody tr th {\n",
       "        vertical-align: top;\n",
       "    }\n",
       "\n",
       "    .dataframe thead th {\n",
       "        text-align: right;\n",
       "    }\n",
       "</style>\n",
       "<table border=\"1\" class=\"dataframe\">\n",
       "  <thead>\n",
       "    <tr style=\"text-align: right;\">\n",
       "      <th></th>\n",
       "      <th>image_id</th>\n",
       "      <th>Wearing_Accessories</th>\n",
       "      <th>Thick_Lips_Nose</th>\n",
       "    </tr>\n",
       "  </thead>\n",
       "  <tbody>\n",
       "    <tr>\n",
       "      <th>0</th>\n",
       "      <td>10479370.jpg</td>\n",
       "      <td>0</td>\n",
       "      <td>1</td>\n",
       "    </tr>\n",
       "    <tr>\n",
       "      <th>1</th>\n",
       "      <td>11904981.jpg</td>\n",
       "      <td>0</td>\n",
       "      <td>1</td>\n",
       "    </tr>\n",
       "    <tr>\n",
       "      <th>2</th>\n",
       "      <td>11284116.jpg</td>\n",
       "      <td>1</td>\n",
       "      <td>0</td>\n",
       "    </tr>\n",
       "    <tr>\n",
       "      <th>3</th>\n",
       "      <td>11904562.jpg</td>\n",
       "      <td>0</td>\n",
       "      <td>1</td>\n",
       "    </tr>\n",
       "    <tr>\n",
       "      <th>4</th>\n",
       "      <td>12137537.jpg</td>\n",
       "      <td>0</td>\n",
       "      <td>0</td>\n",
       "    </tr>\n",
       "  </tbody>\n",
       "</table>\n",
       "</div>"
      ],
      "text/plain": [
       "       image_id  Wearing_Accessories  Thick_Lips_Nose\n",
       "0  10479370.jpg                    0                1\n",
       "1  11904981.jpg                    0                1\n",
       "2  11284116.jpg                    1                0\n",
       "3  11904562.jpg                    0                1\n",
       "4  12137537.jpg                    0                0"
      ]
     },
     "execution_count": 6,
     "metadata": {},
     "output_type": "execute_result"
    }
   ],
   "source": [
    "train.head()"
   ]
  },
  {
   "cell_type": "code",
   "execution_count": 7,
   "metadata": {},
   "outputs": [],
   "source": [
    "train_df, val_df = train_test_split(train, test_size=0.1)"
   ]
  },
  {
   "cell_type": "code",
   "execution_count": 9,
   "metadata": {},
   "outputs": [
    {
     "name": "stdout",
     "output_type": "stream",
     "text": [
      "Running.\n",
      "Found 154979 validated image filenames.\n",
      "Running..\n",
      "Found 17220 validated image filenames.\n"
     ]
    }
   ],
   "source": [
    "datagen = ImageDataGenerator(rescale=1./255.)\n",
    "\n",
    "columns = ['Wearing_Accessories', 'Thick_Lips_Nose']\n",
    "print(\"Running.\")\n",
    "\n",
    "train_generator =     datagen.flow_from_dataframe(train_df, \n",
    "                                                    folder, \n",
    "                                                    x_col = 'image_id', \n",
    "                                                    y_col = columns, \n",
    "                                                    class_mode='raw',\n",
    "                                                    target_size=(218, 178), \n",
    "                                                    batch_size = 128, \n",
    "                                                    color_mode = 'rgb', \n",
    "                                                    shuffle = True)\n",
    "print(\"Running..\")\n",
    "\n",
    "val_generator =   datagen.flow_from_dataframe(val_df, \n",
    "                                                    folder, \n",
    "                                                    x_col = 'image_id', \n",
    "                                                    y_col = columns, \n",
    "                                                    target_size =(218, 178), \n",
    "                                                    class_mode = 'raw', \n",
    "                                                    batch_size = 128, \n",
    "                                                    color_mode = 'rgb', \n",
    "                                                    shuffle = True)"
   ]
  },
  {
   "cell_type": "code",
   "execution_count": 10,
   "metadata": {},
   "outputs": [],
   "source": [
    "from keras_preprocessing.image import ImageDataGenerator\n",
    "from keras.layers import Dense, Activation, Flatten, Dropout, BatchNormalization\n",
    "from keras.layers import Conv2D, MaxPooling2D\n",
    "from keras import regularizers, optimizers\n",
    "import pandas as pd\n",
    "import numpy as np\n",
    "from keras.models import Sequential\n",
    "\n",
    "# MODEL\n",
    "model = Sequential()\n",
    "model.add(Conv2D(32, (3, 3), padding='same',input_shape=(218,178,3)))\n",
    "model.add(Activation('relu'))\n",
    "\n",
    "model.add(Conv2D(32, (3, 3)))\n",
    "model.add(Activation('relu'))\n",
    "\n",
    "model.add(MaxPooling2D(pool_size=(2, 2)))\n",
    "model.add(Dropout(0.25))\n",
    "\n",
    "model.add(Conv2D(64, (3, 3), padding='same'))\n",
    "model.add(Activation('relu'))\n",
    "\n",
    "model.add(Conv2D(64, (3, 3)))\n",
    "model.add(Activation('relu'))\n",
    "\n",
    "model.add(MaxPooling2D(pool_size=(2, 2)))\n",
    "model.add(Dropout(0.25))\n",
    "\n",
    "model.add(Flatten())\n",
    "model.add(Dense(512))\n",
    "model.add(Activation('relu'))\n",
    "model.add(Dropout(0.5))\n",
    "model.add(Dense(2, activation='sigmoid'))\n",
    "\n",
    "# model = tf.keras.models.Sequential([\n",
    "#   tf.keras.layers.Conv2D(64, (3,3), activation='relu', input_shape=(218, 178, 3)),\n",
    "#   tf.keras.layers.MaxPooling2D(2, 2),\n",
    "#   tf.keras.layers.Conv2D(64, (3,3), activation='relu'),\n",
    "#   tf.keras.layers.MaxPooling2D(2,2),\n",
    "#   tf.keras.layers.Flatten(),\n",
    "#   tf.keras.layers.Dense(128, activation='relu'),\n",
    "#   tf.keras.layers.Dense(2, activation='sigmoid')\n",
    "# ])"
   ]
  },
  {
   "cell_type": "code",
   "execution_count": 11,
   "metadata": {},
   "outputs": [],
   "source": [
    "model.compile(optimizers.RMSprop(lr=0.0001, decay=1e-6),\n",
    "              loss=\"binary_crossentropy\",\n",
    "              metrics=[\"accuracy\"])\n",
    "# model.compile(optimizer='adam', loss='binary_crossentropy', metrics=['accuracy'])"
   ]
  },
  {
   "cell_type": "code",
   "execution_count": 12,
   "metadata": {},
   "outputs": [],
   "source": [
    "STEP_SIZE_TRAIN=train_generator.n//train_generator.batch_size\n",
    "STEP_SIZE_VALID=val_generator.n//val_generator.batch_size"
   ]
  },
  {
   "cell_type": "code",
   "execution_count": 13,
   "metadata": {},
   "outputs": [
    {
     "name": "stdout",
     "output_type": "stream",
     "text": [
      "Epoch 1/18\n",
      "1210/1210 [==============================] - 1253s 1s/step - loss: 0.6627 - accuracy: 0.4992 - val_loss: 0.5905 - val_accuracy: 0.5002\n",
      "Epoch 2/18\n",
      "1210/1210 [==============================] - 582s 481ms/step - loss: 0.5777 - accuracy: 0.5589 - val_loss: 0.5647 - val_accuracy: 0.6198\n",
      "Epoch 3/18\n",
      "1210/1210 [==============================] - 569s 470ms/step - loss: 0.5526 - accuracy: 0.5717 - val_loss: 0.5397 - val_accuracy: 0.5868\n",
      "Epoch 4/18\n",
      "1210/1210 [==============================] - 579s 478ms/step - loss: 0.5364 - accuracy: 0.5810 - val_loss: 0.5341 - val_accuracy: 0.5717\n",
      "Epoch 5/18\n",
      "1210/1210 [==============================] - 575s 475ms/step - loss: 0.5240 - accuracy: 0.5839 - val_loss: 0.5279 - val_accuracy: 0.5521\n",
      "Epoch 6/18\n",
      "1210/1210 [==============================] - 572s 473ms/step - loss: 0.5119 - accuracy: 0.5880 - val_loss: 0.5233 - val_accuracy: 0.5947\n",
      "Epoch 7/18\n",
      "1210/1210 [==============================] - 549s 454ms/step - loss: 0.5031 - accuracy: 0.5936 - val_loss: 0.5392 - val_accuracy: 0.5608\n",
      "Epoch 8/18\n",
      "1210/1210 [==============================] - 549s 453ms/step - loss: 0.4935 - accuracy: 0.5980 - val_loss: 0.5415 - val_accuracy: 0.5827\n",
      "Epoch 9/18\n",
      "1210/1210 [==============================] - 572s 473ms/step - loss: 0.4856 - accuracy: 0.5996 - val_loss: 0.5226 - val_accuracy: 0.6130\n",
      "Epoch 10/18\n",
      "1210/1210 [==============================] - 643s 532ms/step - loss: 0.4779 - accuracy: 0.6014 - val_loss: 0.5468 - val_accuracy: 0.6405\n",
      "Epoch 11/18\n",
      "1210/1210 [==============================] - 550s 455ms/step - loss: 0.4745 - accuracy: 0.6051 - val_loss: 0.5250 - val_accuracy: 0.5866\n",
      "Epoch 12/18\n",
      "1210/1210 [==============================] - 560s 463ms/step - loss: 0.4688 - accuracy: 0.6068 - val_loss: 0.5215 - val_accuracy: 0.6028\n",
      "Epoch 13/18\n",
      "1210/1210 [==============================] - 542s 448ms/step - loss: 0.4653 - accuracy: 0.6055 - val_loss: 0.5198 - val_accuracy: 0.5811\n",
      "Epoch 14/18\n",
      "1210/1210 [==============================] - 596s 493ms/step - loss: 0.4589 - accuracy: 0.6099 - val_loss: 0.5631 - val_accuracy: 0.6104\n",
      "Epoch 15/18\n",
      "1210/1210 [==============================] - 538s 444ms/step - loss: 0.4564 - accuracy: 0.6118 - val_loss: 0.5316 - val_accuracy: 0.5624\n",
      "Epoch 16/18\n",
      "1210/1210 [==============================] - 539s 445ms/step - loss: 0.4523 - accuracy: 0.6118 - val_loss: 0.5665 - val_accuracy: 0.6058\n",
      "Epoch 17/18\n",
      "1210/1210 [==============================] - 575s 475ms/step - loss: 0.4505 - accuracy: 0.6156 - val_loss: 0.5327 - val_accuracy: 0.6278\n",
      "Epoch 18/18\n",
      "1210/1210 [==============================] - 556s 460ms/step - loss: 0.4484 - accuracy: 0.6127 - val_loss: 0.5489 - val_accuracy: 0.5312\n"
     ]
    }
   ],
   "source": [
    "history = model.fit(train_generator,\n",
    "              steps_per_epoch=STEP_SIZE_TRAIN,\n",
    "              validation_data = val_generator,\n",
    "              validation_steps=STEP_SIZE_VALID,\n",
    "              epochs=18,\n",
    "              verbose = True)"
   ]
  },
  {
   "cell_type": "code",
   "execution_count": 14,
   "metadata": {},
   "outputs": [
    {
     "data": {
      "image/png": "[encoded data removed]",
      "text/plain": [
       "<Figure size 432x288 with 1 Axes>"
      ]
     },
     "metadata": {
      "needs_background": "light"
     },
     "output_type": "display_data"
    }
   ],
   "source": [
    "import matplotlib.pyplot as plt\n",
    "\n",
    "plt.plot(history.history['accuracy'])\n",
    "plt.plot(history.history['val_accuracy'])\n",
    "plt.title('Model Accuracy')\n",
    "plt.ylabel('Accurcy')\n",
    "plt.xlabel('Epoch')\n",
    "plt.legend(['train', 'validation'], loc='upper left')\n",
    "plt.show()"
   ]
  },
  {
   "cell_type": "code",
   "execution_count": 15,
   "metadata": {},
   "outputs": [
    {
     "data": {
      "text/html": [
       "<div>\n",
       "<style scoped>\n",
       "    .dataframe tbody tr th:only-of-type {\n",
       "        vertical-align: middle;\n",
       "    }\n",
       "\n",
       "    .dataframe tbody tr th {\n",
       "        vertical-align: top;\n",
       "    }\n",
       "\n",
       "    .dataframe thead th {\n",
       "        text-align: right;\n",
       "    }\n",
       "</style>\n",
       "<table border=\"1\" class=\"dataframe\">\n",
       "  <thead>\n",
       "    <tr style=\"text-align: right;\">\n",
       "      <th></th>\n",
       "      <th>image_id</th>\n",
       "      <th>Wearing_Accessories</th>\n",
       "      <th>Thick_Lips_Nose</th>\n",
       "    </tr>\n",
       "  </thead>\n",
       "  <tbody>\n",
       "    <tr>\n",
       "      <th>0</th>\n",
       "      <td>11580930.jpg</td>\n",
       "      <td>0</td>\n",
       "      <td>0</td>\n",
       "    </tr>\n",
       "    <tr>\n",
       "      <th>1</th>\n",
       "      <td>11433558.jpg</td>\n",
       "      <td>0</td>\n",
       "      <td>0</td>\n",
       "    </tr>\n",
       "    <tr>\n",
       "      <th>2</th>\n",
       "      <td>11423635.jpg</td>\n",
       "      <td>0</td>\n",
       "      <td>0</td>\n",
       "    </tr>\n",
       "    <tr>\n",
       "      <th>3</th>\n",
       "      <td>10623617.jpg</td>\n",
       "      <td>0</td>\n",
       "      <td>0</td>\n",
       "    </tr>\n",
       "    <tr>\n",
       "      <th>4</th>\n",
       "      <td>10020515.jpg</td>\n",
       "      <td>0</td>\n",
       "      <td>0</td>\n",
       "    </tr>\n",
       "    <tr>\n",
       "      <th>...</th>\n",
       "      <td>...</td>\n",
       "      <td>...</td>\n",
       "      <td>...</td>\n",
       "    </tr>\n",
       "    <tr>\n",
       "      <th>30395</th>\n",
       "      <td>10565840.jpg</td>\n",
       "      <td>0</td>\n",
       "      <td>0</td>\n",
       "    </tr>\n",
       "    <tr>\n",
       "      <th>30396</th>\n",
       "      <td>11930069.jpg</td>\n",
       "      <td>0</td>\n",
       "      <td>0</td>\n",
       "    </tr>\n",
       "    <tr>\n",
       "      <th>30397</th>\n",
       "      <td>11721443.jpg</td>\n",
       "      <td>0</td>\n",
       "      <td>0</td>\n",
       "    </tr>\n",
       "    <tr>\n",
       "      <th>30398</th>\n",
       "      <td>11346729.jpg</td>\n",
       "      <td>0</td>\n",
       "      <td>0</td>\n",
       "    </tr>\n",
       "    <tr>\n",
       "      <th>30399</th>\n",
       "      <td>11642180.jpg</td>\n",
       "      <td>0</td>\n",
       "      <td>0</td>\n",
       "    </tr>\n",
       "  </tbody>\n",
       "</table>\n",
       "<p>30400 rows × 3 columns</p>\n",
       "</div>"
      ],
      "text/plain": [
       "           image_id  Wearing_Accessories  Thick_Lips_Nose\n",
       "0      11580930.jpg                    0                0\n",
       "1      11433558.jpg                    0                0\n",
       "2      11423635.jpg                    0                0\n",
       "3      10623617.jpg                    0                0\n",
       "4      10020515.jpg                    0                0\n",
       "...             ...                  ...              ...\n",
       "30395  10565840.jpg                    0                0\n",
       "30396  11930069.jpg                    0                0\n",
       "30397  11721443.jpg                    0                0\n",
       "30398  11346729.jpg                    0                0\n",
       "30399  11642180.jpg                    0                0\n",
       "\n",
       "[30400 rows x 3 columns]"
      ]
     },
     "execution_count": 15,
     "metadata": {},
     "output_type": "execute_result"
    }
   ],
   "source": [
    "sub = pd.read_csv(\"../input/face-attributes-ml-thon-2021/sampleSubmission.csv\")\n",
    "sub"
   ]
  },
  {
   "cell_type": "code",
   "execution_count": 16,
   "metadata": {},
   "outputs": [
    {
     "name": "stdout",
     "output_type": "stream",
     "text": [
      "Found 30400 validated image filenames.\n"
     ]
    }
   ],
   "source": [
    "test_generator =   datagen.flow_from_dataframe(sub, folder, x_col = 'image_id', y_col=None,\n",
    "    batch_size=128,\n",
    "    class_mode=None,\n",
    "    target_size =(218, 178),  \n",
    "    shuffle=False,\n",
    "    color_mode = 'rgb')"
   ]
  },
  {
   "cell_type": "code",
   "execution_count": 17,
   "metadata": {},
   "outputs": [],
   "source": [
    "preds = model.predict(test_generator)"
   ]
  },
  {
   "cell_type": "code",
   "execution_count": 18,
   "metadata": {},
   "outputs": [
    {
     "data": {
      "text/html": [
       "<div>\n",
       "<style scoped>\n",
       "    .dataframe tbody tr th:only-of-type {\n",
       "        vertical-align: middle;\n",
       "    }\n",
       "\n",
       "    .dataframe tbody tr th {\n",
       "        vertical-align: top;\n",
       "    }\n",
       "\n",
       "    .dataframe thead th {\n",
       "        text-align: right;\n",
       "    }\n",
       "</style>\n",
       "<table border=\"1\" class=\"dataframe\">\n",
       "  <thead>\n",
       "    <tr style=\"text-align: right;\">\n",
       "      <th></th>\n",
       "      <th>image_id</th>\n",
       "      <th>Wearing_Accessories</th>\n",
       "      <th>Thick_Lips_Nose</th>\n",
       "    </tr>\n",
       "  </thead>\n",
       "  <tbody>\n",
       "    <tr>\n",
       "      <th>0</th>\n",
       "      <td>11580930.jpg</td>\n",
       "      <td>0.998133</td>\n",
       "      <td>0.552102</td>\n",
       "    </tr>\n",
       "    <tr>\n",
       "      <th>1</th>\n",
       "      <td>11433558.jpg</td>\n",
       "      <td>0.002396</td>\n",
       "      <td>0.687783</td>\n",
       "    </tr>\n",
       "    <tr>\n",
       "      <th>2</th>\n",
       "      <td>11423635.jpg</td>\n",
       "      <td>0.481181</td>\n",
       "      <td>0.587477</td>\n",
       "    </tr>\n",
       "    <tr>\n",
       "      <th>3</th>\n",
       "      <td>10623617.jpg</td>\n",
       "      <td>0.006155</td>\n",
       "      <td>0.539405</td>\n",
       "    </tr>\n",
       "    <tr>\n",
       "      <th>4</th>\n",
       "      <td>10020515.jpg</td>\n",
       "      <td>0.759049</td>\n",
       "      <td>0.398264</td>\n",
       "    </tr>\n",
       "    <tr>\n",
       "      <th>...</th>\n",
       "      <td>...</td>\n",
       "      <td>...</td>\n",
       "      <td>...</td>\n",
       "    </tr>\n",
       "    <tr>\n",
       "      <th>30395</th>\n",
       "      <td>10565840.jpg</td>\n",
       "      <td>0.325312</td>\n",
       "      <td>0.648668</td>\n",
       "    </tr>\n",
       "    <tr>\n",
       "      <th>30396</th>\n",
       "      <td>11930069.jpg</td>\n",
       "      <td>0.014986</td>\n",
       "      <td>0.046568</td>\n",
       "    </tr>\n",
       "    <tr>\n",
       "      <th>30397</th>\n",
       "      <td>11721443.jpg</td>\n",
       "      <td>0.098750</td>\n",
       "      <td>0.246347</td>\n",
       "    </tr>\n",
       "    <tr>\n",
       "      <th>30398</th>\n",
       "      <td>11346729.jpg</td>\n",
       "      <td>0.095327</td>\n",
       "      <td>0.223790</td>\n",
       "    </tr>\n",
       "    <tr>\n",
       "      <th>30399</th>\n",
       "      <td>11642180.jpg</td>\n",
       "      <td>0.175697</td>\n",
       "      <td>0.271436</td>\n",
       "    </tr>\n",
       "  </tbody>\n",
       "</table>\n",
       "<p>30400 rows × 3 columns</p>\n",
       "</div>"
      ],
      "text/plain": [
       "           image_id  Wearing_Accessories  Thick_Lips_Nose\n",
       "0      11580930.jpg             0.998133         0.552102\n",
       "1      11433558.jpg             0.002396         0.687783\n",
       "2      11423635.jpg             0.481181         0.587477\n",
       "3      10623617.jpg             0.006155         0.539405\n",
       "4      10020515.jpg             0.759049         0.398264\n",
       "...             ...                  ...              ...\n",
       "30395  10565840.jpg             0.325312         0.648668\n",
       "30396  11930069.jpg             0.014986         0.046568\n",
       "30397  11721443.jpg             0.098750         0.246347\n",
       "30398  11346729.jpg             0.095327         0.223790\n",
       "30399  11642180.jpg             0.175697         0.271436\n",
       "\n",
       "[30400 rows x 3 columns]"
      ]
     },
     "execution_count": 18,
     "metadata": {},
     "output_type": "execute_result"
    }
   ],
   "source": [
    "sub[['Wearing_Accessories', 'Thick_Lips_Nose']] = preds\n",
    "sub"
   ]
  },
  {
   "cell_type": "code",
   "execution_count": 19,
   "metadata": {},
   "outputs": [],
   "source": [
    "sub.to_csv(\"submission2.csv\", index=False)"
   ]
  },
  {
   "cell_type": "code",
   "execution_count": null,
   "metadata": {},
   "outputs": [],
   "source": []
  }
 ],
 "metadata": {
  "kernelspec": {
   "display_name": "Python 3",
   "language": "python",
   "name": "python3"
  },
  "language_info": {
   "codemirror_mode": {
    "name": "ipython",
    "version": 3
   },
   "file_extension": ".py",
   "mimetype": "text/x-python",
   "name": "python",
   "nbconvert_exporter": "python",
   "pygments_lexer": "ipython3",
   "version": "3.8.8"
  }
 },
 "nbformat": 4,
 "nbformat_minor": 4
}
